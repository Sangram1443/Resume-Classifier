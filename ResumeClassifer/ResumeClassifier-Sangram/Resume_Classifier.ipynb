{
 "cells": [
  {
   "cell_type": "code",
   "execution_count": 1,
   "id": "b8018b86",
   "metadata": {},
   "outputs": [],
   "source": [
    "import pandas as pd\n",
    "import numpy as np\n",
    "from sklearn.svm import SVC\n",
    "from sklearn.neighbors import KNeighborsClassifier\n",
    "from sklearn.ensemble import RandomForestClassifier\n",
    "from sklearn.model_selection import train_test_split\n",
    "import pickle"
   ]
  },
  {
   "cell_type": "code",
   "execution_count": 2,
   "id": "c0267866",
   "metadata": {},
   "outputs": [
    {
     "data": {
      "text/html": [
       "<div>\n",
       "<style scoped>\n",
       "    .dataframe tbody tr th:only-of-type {\n",
       "        vertical-align: middle;\n",
       "    }\n",
       "\n",
       "    .dataframe tbody tr th {\n",
       "        vertical-align: top;\n",
       "    }\n",
       "\n",
       "    .dataframe thead th {\n",
       "        text-align: right;\n",
       "    }\n",
       "</style>\n",
       "<table border=\"1\" class=\"dataframe\">\n",
       "  <thead>\n",
       "    <tr style=\"text-align: right;\">\n",
       "      <th></th>\n",
       "      <th>Category</th>\n",
       "      <th>Resume</th>\n",
       "    </tr>\n",
       "  </thead>\n",
       "  <tbody>\n",
       "    <tr>\n",
       "      <th>0</th>\n",
       "      <td>Data Science</td>\n",
       "      <td>Skills * Programming Languages: Python (pandas...</td>\n",
       "    </tr>\n",
       "    <tr>\n",
       "      <th>1</th>\n",
       "      <td>Data Science</td>\n",
       "      <td>Education Details \\r\\nMay 2013 to May 2017 B.E...</td>\n",
       "    </tr>\n",
       "    <tr>\n",
       "      <th>2</th>\n",
       "      <td>Data Science</td>\n",
       "      <td>Areas of Interest Deep Learning, Control Syste...</td>\n",
       "    </tr>\n",
       "    <tr>\n",
       "      <th>3</th>\n",
       "      <td>Data Science</td>\n",
       "      <td>Skills â¢ R â¢ Python â¢ SAP HANA â¢ Table...</td>\n",
       "    </tr>\n",
       "    <tr>\n",
       "      <th>4</th>\n",
       "      <td>Data Science</td>\n",
       "      <td>Education Details \\r\\n MCA   YMCAUST,  Faridab...</td>\n",
       "    </tr>\n",
       "    <tr>\n",
       "      <th>...</th>\n",
       "      <td>...</td>\n",
       "      <td>...</td>\n",
       "    </tr>\n",
       "    <tr>\n",
       "      <th>957</th>\n",
       "      <td>Testing</td>\n",
       "      <td>Computer Skills: â¢ Proficient in MS office (...</td>\n",
       "    </tr>\n",
       "    <tr>\n",
       "      <th>958</th>\n",
       "      <td>Testing</td>\n",
       "      <td>â Willingness to accept the challenges. â ...</td>\n",
       "    </tr>\n",
       "    <tr>\n",
       "      <th>959</th>\n",
       "      <td>Testing</td>\n",
       "      <td>PERSONAL SKILLS â¢ Quick learner, â¢ Eagerne...</td>\n",
       "    </tr>\n",
       "    <tr>\n",
       "      <th>960</th>\n",
       "      <td>Testing</td>\n",
       "      <td>COMPUTER SKILLS &amp; SOFTWARE KNOWLEDGE MS-Power ...</td>\n",
       "    </tr>\n",
       "    <tr>\n",
       "      <th>961</th>\n",
       "      <td>Testing</td>\n",
       "      <td>Skill Set OS Windows XP/7/8/8.1/10 Database MY...</td>\n",
       "    </tr>\n",
       "  </tbody>\n",
       "</table>\n",
       "<p>962 rows × 2 columns</p>\n",
       "</div>"
      ],
      "text/plain": [
       "         Category                                             Resume\n",
       "0    Data Science  Skills * Programming Languages: Python (pandas...\n",
       "1    Data Science  Education Details \\r\\nMay 2013 to May 2017 B.E...\n",
       "2    Data Science  Areas of Interest Deep Learning, Control Syste...\n",
       "3    Data Science  Skills â¢ R â¢ Python â¢ SAP HANA â¢ Table...\n",
       "4    Data Science  Education Details \\r\\n MCA   YMCAUST,  Faridab...\n",
       "..            ...                                                ...\n",
       "957       Testing  Computer Skills: â¢ Proficient in MS office (...\n",
       "958       Testing  â Willingness to accept the challenges. â ...\n",
       "959       Testing  PERSONAL SKILLS â¢ Quick learner, â¢ Eagerne...\n",
       "960       Testing  COMPUTER SKILLS & SOFTWARE KNOWLEDGE MS-Power ...\n",
       "961       Testing  Skill Set OS Windows XP/7/8/8.1/10 Database MY...\n",
       "\n",
       "[962 rows x 2 columns]"
      ]
     },
     "execution_count": 2,
     "metadata": {},
     "output_type": "execute_result"
    }
   ],
   "source": [
    "df = pd.read_csv('UpdatedResumeDataSet.csv')\n",
    "df"
   ]
  },
  {
   "cell_type": "code",
   "execution_count": 3,
   "id": "ad969a61",
   "metadata": {},
   "outputs": [
    {
     "name": "stdout",
     "output_type": "stream",
     "text": [
      "Data Science\n",
      "HR\n",
      "Advocate\n",
      "Arts\n",
      "Web Designing\n",
      "Mechanical Engineer\n",
      "Sales\n",
      "Health and fitness\n",
      "Civil Engineer\n",
      "Java Developer\n",
      "Business Analyst\n",
      "SAP Developer\n",
      "Automation Testing\n",
      "Electrical Engineering\n",
      "Operations Manager\n",
      "Python Developer\n",
      "DevOps Engineer\n",
      "Network Security Engineer\n",
      "PMO\n",
      "Database\n",
      "Hadoop\n",
      "ETL Developer\n",
      "DotNet Developer\n",
      "Blockchain\n",
      "Testing\n"
     ]
    }
   ],
   "source": [
    "for i in range(len(df['Category'].unique())):\n",
    "    print(df['Category'].unique()[i])\n"
   ]
  },
  {
   "cell_type": "code",
   "execution_count": 4,
   "id": "71bacc47",
   "metadata": {},
   "outputs": [
    {
     "name": "stdout",
     "output_type": "stream",
     "text": [
      "Category    0\n",
      "Resume      0\n",
      "dtype: int64\n"
     ]
    }
   ],
   "source": [
    "print(df.isnull().sum())"
   ]
  },
  {
   "cell_type": "code",
   "execution_count": 5,
   "id": "c7762b4f",
   "metadata": {},
   "outputs": [],
   "source": [
    "df['Resume'] = df['Resume'].apply(lambda x:x.lower())\n",
    "for i in range(len(df)):\n",
    "    lw=[]\n",
    "    for j in df['Resume'][i].split():\n",
    "        if len(j)>2:                  \n",
    "            lw.append(j)\n",
    "    df['Resume'][i]=\" \".join(lw)"
   ]
  },
  {
   "cell_type": "code",
   "execution_count": 6,
   "id": "640c01a2",
   "metadata": {},
   "outputs": [
    {
     "data": {
      "text/plain": [
       "0      skills programming languages: python (pandas, ...\n",
       "1      education details may 2013 may 2017 b.e uit-rg...\n",
       "2      areas interest deep learning, control system d...\n",
       "3      skills â¢ â¢ python â¢ sap hana â¢ tableau...\n",
       "4      education details mca ymcaust, faridabad, hary...\n",
       "                             ...                        \n",
       "957    computer skills: â¢ proficient office (word, ...\n",
       "958    â willingness accept the challenges. â pos...\n",
       "959    personal skills â¢ quick learner, â¢ eagerne...\n",
       "960    computer skills software knowledge ms-power po...\n",
       "961    skill set windows xp/7/8/8.1/10 database mysql...\n",
       "Name: Resume, Length: 962, dtype: object"
      ]
     },
     "execution_count": 6,
     "metadata": {},
     "output_type": "execute_result"
    }
   ],
   "source": [
    "df.Resume"
   ]
  },
  {
   "cell_type": "code",
   "execution_count": 7,
   "id": "c85b3384",
   "metadata": {},
   "outputs": [],
   "source": [
    "import re\n",
    "def cleanResume(resumeText):\n",
    "    resumeText = re.sub('http\\S+\\s*', ' ', resumeText)  # remove URLs\n",
    "    resumeText = re.sub('RT|cc', ' ', resumeText)  # remove RT and cc\n",
    "    resumeText = re.sub('#\\S+', '', resumeText)  # remove hashtags\n",
    "    resumeText = re.sub('@\\S+', '  ', resumeText)  # remove mentions\n",
    "    resumeText = re.sub('[%s]' % re.escape(\"\"\"!\"#$%&'()*+,-./:;<=>?@[\\]^_`{|}~\"\"\"), ' ', resumeText)  # remove punctuations\n",
    "    resumeText = re.sub(r'[^\\x00-\\x7f]',r' ', resumeText) \n",
    "    resumeText = re.sub('\\s+', ' ', resumeText)  # remove extra whitespace\n",
    "    return resumeText\n",
    "    \n",
    "df['cleaned_resume'] = df.Resume.apply(lambda x: cleanResume(x))"
   ]
  },
  {
   "cell_type": "code",
   "execution_count": 8,
   "id": "58198db0",
   "metadata": {},
   "outputs": [
    {
     "data": {
      "text/plain": [
       "0      skills programming languages: python (pandas, ...\n",
       "1      education details may 2013 may 2017 b.e uit-rg...\n",
       "2      areas interest deep learning, control system d...\n",
       "3      skills â¢ â¢ python â¢ sap hana â¢ tableau...\n",
       "4      education details mca ymcaust, faridabad, hary...\n",
       "                             ...                        \n",
       "957    computer skills: â¢ proficient office (word, ...\n",
       "958    â willingness accept the challenges. â pos...\n",
       "959    personal skills â¢ quick learner, â¢ eagerne...\n",
       "960    computer skills software knowledge ms-power po...\n",
       "961    skill set windows xp/7/8/8.1/10 database mysql...\n",
       "Name: Resume, Length: 962, dtype: object"
      ]
     },
     "execution_count": 8,
     "metadata": {},
     "output_type": "execute_result"
    }
   ],
   "source": [
    "df.Resume"
   ]
  },
  {
   "cell_type": "code",
   "execution_count": 9,
   "id": "b7793992",
   "metadata": {},
   "outputs": [
    {
     "name": "stderr",
     "output_type": "stream",
     "text": [
      "C:\\Users\\Sangram\\AppData\\Local\\Temp\\ipykernel_26904\\2980719137.py:5: FutureWarning: The default value of regex will change from True to False in a future version. In addition, single character regular expressions will *not* be treated as literal strings when regex=True.\n",
      "  df['Resume'] = df['Resume'].str.replace(p, '')\n"
     ]
    }
   ],
   "source": [
    "ps = list(\";?.:!,\")\n",
    "df['Resume'] = df['Resume']\n",
    "\n",
    "for p in ps:   \n",
    "    df['Resume'] = df['Resume'].str.replace(p, '')"
   ]
  },
  {
   "cell_type": "code",
   "execution_count": 10,
   "id": "52e1c822",
   "metadata": {},
   "outputs": [
    {
     "data": {
      "text/plain": [
       "0      skills programming languages python (pandas nu...\n",
       "1      education details may 2013 may 2017 be uit-rgp...\n",
       "2      areas interest deep learning control system de...\n",
       "3      skills â¢ â¢ python â¢ sap hana â¢ tableau...\n",
       "4      education details mca ymcaust faridabad haryan...\n",
       "                             ...                        \n",
       "957    computer skills â¢ proficient office (word ba...\n",
       "958    â willingness accept the challenges â posi...\n",
       "959    personal skills â¢ quick learner â¢ eagernes...\n",
       "960    computer skills software knowledge ms-power po...\n",
       "961    skill set windows xp/7/8/81/10 database mysql ...\n",
       "Name: Resume, Length: 962, dtype: object"
      ]
     },
     "execution_count": 10,
     "metadata": {},
     "output_type": "execute_result"
    }
   ],
   "source": [
    "df.Resume"
   ]
  },
  {
   "cell_type": "code",
   "execution_count": 11,
   "id": "94da8f3d",
   "metadata": {},
   "outputs": [],
   "source": [
    "df['Resume'] = df['Resume'].str.replace(\"    \", \" \")\n",
    "df['Resume'] = df['Resume'].str.replace('\"', '')\n",
    "df['Resume'] = df['Resume'].apply(lambda x: x.replace('\\t', ' '))\n",
    "df['Resume'] = df['Resume'].str.replace(\"'s\", \"\")\n",
    "df['Resume'] = df['Resume'].apply(lambda x: x.replace('\\n', ' '))"
   ]
  },
  {
   "cell_type": "code",
   "execution_count": 12,
   "id": "fd2e3ff1",
   "metadata": {},
   "outputs": [
    {
     "data": {
      "text/plain": [
       "0      skills programming languages python (pandas nu...\n",
       "1      education details may 2013 may 2017 be uit-rgp...\n",
       "2      areas interest deep learning control system de...\n",
       "3      skills â¢ â¢ python â¢ sap hana â¢ tableau...\n",
       "4      education details mca ymcaust faridabad haryan...\n",
       "                             ...                        \n",
       "957    computer skills â¢ proficient office (word ba...\n",
       "958    â willingness accept the challenges â posi...\n",
       "959    personal skills â¢ quick learner â¢ eagernes...\n",
       "960    computer skills software knowledge ms-power po...\n",
       "961    skill set windows xp/7/8/81/10 database mysql ...\n",
       "Name: Resume, Length: 962, dtype: object"
      ]
     },
     "execution_count": 12,
     "metadata": {},
     "output_type": "execute_result"
    }
   ],
   "source": [
    "df.Resume"
   ]
  },
  {
   "cell_type": "code",
   "execution_count": 13,
   "id": "a143baee",
   "metadata": {},
   "outputs": [
    {
     "name": "stdout",
     "output_type": "stream",
     "text": [
      "Requirement already satisfied: nltk in c:\\users\\sangram\\desktop\\sample_project\\env\\lib\\site-packages (3.8.1)\n",
      "Requirement already satisfied: tqdm in c:\\users\\sangram\\desktop\\sample_project\\env\\lib\\site-packages (from nltk) (4.64.1)\n",
      "Requirement already satisfied: click in c:\\users\\sangram\\desktop\\sample_project\\env\\lib\\site-packages (from nltk) (8.1.3)\n",
      "Requirement already satisfied: joblib in c:\\users\\sangram\\desktop\\sample_project\\env\\lib\\site-packages (from nltk) (1.1.0)\n",
      "Requirement already satisfied: regex>=2021.8.3 in c:\\users\\sangram\\desktop\\sample_project\\env\\lib\\site-packages (from nltk) (2022.10.31)\n",
      "Requirement already satisfied: colorama in c:\\users\\sangram\\appdata\\roaming\\python\\python310\\site-packages (from click->nltk) (0.4.5)\n",
      "Note: you may need to restart the kernel to use updated packages.\n"
     ]
    }
   ],
   "source": [
    "pip install nltk"
   ]
  },
  {
   "cell_type": "code",
   "execution_count": 14,
   "id": "7221b760",
   "metadata": {},
   "outputs": [],
   "source": [
    "import nltk"
   ]
  },
  {
   "cell_type": "code",
   "execution_count": 15,
   "id": "622fb51f",
   "metadata": {},
   "outputs": [],
   "source": [
    "from nltk.corpus import stopwords\n",
    "from nltk.stem import PorterStemmer\n",
    "from nltk.stem import WordNetLemmatizer\n",
    "import string"
   ]
  },
  {
   "cell_type": "code",
   "execution_count": 16,
   "id": "645b5090",
   "metadata": {},
   "outputs": [
    {
     "name": "stderr",
     "output_type": "stream",
     "text": [
      "[nltk_data] Downloading package punkt to\n",
      "[nltk_data]     C:\\Users\\Sangram\\AppData\\Roaming\\nltk_data...\n",
      "[nltk_data]   Package punkt is already up-to-date!\n",
      "[nltk_data] Downloading package wordnet to\n",
      "[nltk_data]     C:\\Users\\Sangram\\AppData\\Roaming\\nltk_data...\n",
      "[nltk_data]   Package wordnet is already up-to-date!\n",
      "[nltk_data] Downloading package omw-1.4 to\n",
      "[nltk_data]     C:\\Users\\Sangram\\AppData\\Roaming\\nltk_data...\n",
      "[nltk_data]   Package omw-1.4 is already up-to-date!\n",
      "[nltk_data] Downloading package stopwords to\n",
      "[nltk_data]     C:\\Users\\Sangram\\AppData\\Roaming\\nltk_data...\n",
      "[nltk_data]   Package stopwords is already up-to-date!\n"
     ]
    },
    {
     "data": {
      "text/plain": [
       "True"
      ]
     },
     "execution_count": 16,
     "metadata": {},
     "output_type": "execute_result"
    }
   ],
   "source": [
    "nltk.download('punkt')\n",
    "nltk.download('wordnet')\n",
    "nltk.download('omw-1.4')\n",
    "nltk.download('stopwords')"
   ]
  },
  {
   "cell_type": "code",
   "execution_count": 17,
   "id": "d0742369",
   "metadata": {},
   "outputs": [
    {
     "name": "stdout",
     "output_type": "stream",
     "text": [
      "[('exprience', 3829), ('company', 3574), ('project', 3490), ('months', 3288), ('description', 3122), ('details', 3096), ('data', 2148), ('management', 1999), ('team', 1950), ('maharashtra', 1449), ('system', 1415), ('testing', 1349), ('year', 1336), ('database', 1280), ('development', 1203), ('business', 1196), ('test', 1174), ('less', 1145), ('ltd', 1128), ('using', 1124), ('skill', 1117), ('sql', 1097), ('january', 1090), ('client', 1085), ('developer', 1061), ('engineering', 1055), ('java', 1053), ('application', 1046), ('pune', 1025), ('work', 987), ('services', 956), ('skills', 950), ('software', 887), ('responsibilities', 856), ('pvt', 831), ('sales', 819), ('reports', 814), ('process', 808), ('operations', 791), ('requirements', 790), ('customer', 775), ('technical', 767), ('server', 765), ('technologies', 764), ('india', 762), ('university', 762), ('monthscompany', 746), ('design', 745), ('working', 745), ('various', 727)]\n"
     ]
    }
   ],
   "source": [
    "oneSetOfStopWords = set(stopwords.words('english')+['``',\"''\"])\n",
    "totalWords =[]\n",
    "Sentences = df['Resume'].values\n",
    "cleanedSentences = \"\"\n",
    "for records in Sentences:\n",
    "    cleanedText = cleanResume(records)\n",
    "    cleanedSentences += cleanedText\n",
    "    requiredWords = nltk.word_tokenize(cleanedText)\n",
    "    for word in requiredWords:\n",
    "        if word not in oneSetOfStopWords and word not in string.punctuation:\n",
    "            totalWords.append(word)\n",
    "    \n",
    "wordfreqdist = nltk.FreqDist(totalWords)\n",
    "mostcommon = wordfreqdist.most_common(50)\n",
    "print(mostcommon)"
   ]
  },
  {
   "cell_type": "code",
   "execution_count": 18,
   "id": "cafcec31",
   "metadata": {},
   "outputs": [],
   "source": [
    "wl = WordNetLemmatizer()\n",
    "nr = len(df)\n",
    "lis = []\n",
    "for r in range(0, nr):\n",
    "    ll = []\n",
    "    t = df.loc[r]['Resume']\n",
    "    tw = str(t).split(\" \")\n",
    "    for w in tw:\n",
    "        ll.append(wl.lemmatize(w, pos=\"v\"))\n",
    "    lt = \" \".join(ll)\n",
    "    lis.append(lt)"
   ]
  },
  {
   "cell_type": "code",
   "execution_count": 19,
   "id": "65d502e5",
   "metadata": {},
   "outputs": [],
   "source": [
    "df['Resume'] = lis"
   ]
  },
  {
   "cell_type": "code",
   "execution_count": 20,
   "id": "fe4cde24",
   "metadata": {},
   "outputs": [
    {
     "data": {
      "text/html": [
       "<div>\n",
       "<style scoped>\n",
       "    .dataframe tbody tr th:only-of-type {\n",
       "        vertical-align: middle;\n",
       "    }\n",
       "\n",
       "    .dataframe tbody tr th {\n",
       "        vertical-align: top;\n",
       "    }\n",
       "\n",
       "    .dataframe thead th {\n",
       "        text-align: right;\n",
       "    }\n",
       "</style>\n",
       "<table border=\"1\" class=\"dataframe\">\n",
       "  <thead>\n",
       "    <tr style=\"text-align: right;\">\n",
       "      <th></th>\n",
       "      <th>Category</th>\n",
       "      <th>Resume</th>\n",
       "      <th>cleaned_resume</th>\n",
       "    </tr>\n",
       "  </thead>\n",
       "  <tbody>\n",
       "    <tr>\n",
       "      <th>0</th>\n",
       "      <td>Data Science</td>\n",
       "      <td>skills program languages python (pandas numpy ...</td>\n",
       "      <td>skills programming languages python pandas num...</td>\n",
       "    </tr>\n",
       "    <tr>\n",
       "      <th>1</th>\n",
       "      <td>Data Science</td>\n",
       "      <td>education detail may 2013 may 2017 be uit-rgpv...</td>\n",
       "      <td>education details may 2013 may 2017 b e uit rg...</td>\n",
       "    </tr>\n",
       "    <tr>\n",
       "      <th>2</th>\n",
       "      <td>Data Science</td>\n",
       "      <td>areas interest deep learn control system desig...</td>\n",
       "      <td>areas interest deep learning control system de...</td>\n",
       "    </tr>\n",
       "    <tr>\n",
       "      <th>3</th>\n",
       "      <td>Data Science</td>\n",
       "      <td>skills â¢ â¢ python â¢ sap hana â¢ tableau...</td>\n",
       "      <td>skills python sap hana tableau sap hana sql sa...</td>\n",
       "    </tr>\n",
       "    <tr>\n",
       "      <th>4</th>\n",
       "      <td>Data Science</td>\n",
       "      <td>education detail mca ymcaust faridabad haryana...</td>\n",
       "      <td>education details mca ymcaust faridabad haryan...</td>\n",
       "    </tr>\n",
       "  </tbody>\n",
       "</table>\n",
       "</div>"
      ],
      "text/plain": [
       "       Category                                             Resume  \\\n",
       "0  Data Science  skills program languages python (pandas numpy ...   \n",
       "1  Data Science  education detail may 2013 may 2017 be uit-rgpv...   \n",
       "2  Data Science  areas interest deep learn control system desig...   \n",
       "3  Data Science  skills â¢ â¢ python â¢ sap hana â¢ tableau...   \n",
       "4  Data Science  education detail mca ymcaust faridabad haryana...   \n",
       "\n",
       "                                      cleaned_resume  \n",
       "0  skills programming languages python pandas num...  \n",
       "1  education details may 2013 may 2017 b e uit rg...  \n",
       "2  areas interest deep learning control system de...  \n",
       "3  skills python sap hana tableau sap hana sql sa...  \n",
       "4  education details mca ymcaust faridabad haryan...  "
      ]
     },
     "execution_count": 20,
     "metadata": {},
     "output_type": "execute_result"
    }
   ],
   "source": [
    "df.head()"
   ]
  },
  {
   "cell_type": "code",
   "execution_count": 21,
   "id": "2794931c",
   "metadata": {},
   "outputs": [],
   "source": [
    "from sklearn.preprocessing import LabelEncoder\n",
    "from sklearn.feature_extraction.text import CountVectorizer\n",
    "le = LabelEncoder()\n",
    "df['Category'] = le.fit_transform(df['Category'])\n",
    "cv = CountVectorizer(max_features = 2500)\n",
    "cv.fit(df['Resume'])\n",
    "X = cv.transform(df['Resume']).toarray()\n",
    "y = df['Category']"
   ]
  },
  {
   "cell_type": "code",
   "execution_count": 22,
   "id": "e0baaa4c",
   "metadata": {},
   "outputs": [
    {
     "data": {
      "text/plain": [
       "15    84\n",
       "23    70\n",
       "8     55\n",
       "20    48\n",
       "24    45\n",
       "12    44\n",
       "13    42\n",
       "3     40\n",
       "10    40\n",
       "18    40\n",
       "6     40\n",
       "22    40\n",
       "16    40\n",
       "1     36\n",
       "7     33\n",
       "11    30\n",
       "14    30\n",
       "19    30\n",
       "4     28\n",
       "9     28\n",
       "2     26\n",
       "17    25\n",
       "21    24\n",
       "5     24\n",
       "0     20\n",
       "Name: Category, dtype: int64"
      ]
     },
     "execution_count": 22,
     "metadata": {},
     "output_type": "execute_result"
    }
   ],
   "source": [
    "df.Category.value_counts()"
   ]
  },
  {
   "cell_type": "code",
   "execution_count": 23,
   "id": "c08b764e",
   "metadata": {},
   "outputs": [
    {
     "name": "stdout",
     "output_type": "stream",
     "text": [
      "[[0 0 0 ... 0 0 0]\n",
      " [0 0 0 ... 0 0 0]\n",
      " [0 0 0 ... 0 0 0]\n",
      " ...\n",
      " [0 0 0 ... 0 0 0]\n",
      " [0 0 0 ... 0 0 0]\n",
      " [0 0 1 ... 0 0 0]]\n",
      "0       6\n",
      "1       6\n",
      "2       6\n",
      "3       6\n",
      "4       6\n",
      "       ..\n",
      "957    23\n",
      "958    23\n",
      "959    23\n",
      "960    23\n",
      "961    23\n",
      "Name: Category, Length: 962, dtype: int32\n"
     ]
    }
   ],
   "source": [
    "print(X)\n",
    "print(y)"
   ]
  },
  {
   "cell_type": "code",
   "execution_count": 24,
   "id": "594c9b85",
   "metadata": {},
   "outputs": [],
   "source": [
    "# from sklearn.preprocessing import LabelEncoder\n",
    "# from sklearn.feature_extraction.text import CountVectorizer\n",
    "\n",
    "# # Assume the encoded data is in the variable 'encoded_data'\n",
    "# decoded_data = LabelEncoder().fit_transform(X)\n",
    "\n",
    "# # Now you can decode the data\n",
    "# original_data = LabelEncoder().inverse_transform(decoded_data)\n",
    "\n",
    "# df['Category'] = original_data\n",
    "\n",
    "# cv = CountVectorizer(max_features=2500)\n",
    "# X = cv.fit_transform(df['Resume']).toarray()\n",
    "# y = df['Category']"
   ]
  },
  {
   "cell_type": "code",
   "execution_count": 25,
   "id": "c00e8d14",
   "metadata": {},
   "outputs": [],
   "source": [
    "X_train, X_test, y_train, y_test = train_test_split(X, y, test_size = 0.3, stratify=y, random_state = 42)"
   ]
  },
  {
   "cell_type": "code",
   "execution_count": 26,
   "id": "098d580d",
   "metadata": {},
   "outputs": [],
   "source": [
    "from sklearn import tree\n",
    "from sklearn.metrics import accuracy_score"
   ]
  },
  {
   "cell_type": "code",
   "execution_count": 27,
   "id": "a7dba67f",
   "metadata": {},
   "outputs": [
    {
     "name": "stdout",
     "output_type": "stream",
     "text": [
      "accuracy is:  0.9826989619377162\n",
      "[20  4 14 24  8 16  4 19  7  7  6  9  4  7  8 24 15 12  9 14 17  0 22  5\n",
      " 14 10  5  1  2  3  1  7 14 12 11 13 20 15 10 23 12  4 22 10 13 22 16 13\n",
      "  7  3  3 22  8 19  7 11 15 21  8 24 10  8  2 19 23 13  3 12 11 22 24 16\n",
      "  3  3 15  6  6 24 10 15  7  9  4  5 19 13 17 23 24  6  2 15 18  1 13  8\n",
      " 23 23 11  1 16 15  0 23 21 24 12 23 20 11 22 23 10 13 15  6 14 21 15 17\n",
      " 14 11 16 15 19 13  7 20 15 11  6 10  5 22 10 23  8 15 10 22  8 15  0  9\n",
      " 22  8  6  8 20 12  8 18  4 16 15 13 10 23  4  1 22  9 10  8 15 20 20 15\n",
      " 18 13 18  2 22 11  6 15 19  1 23 20 24 14 18  5 14 17 12 23 23 16 15 23\n",
      " 18 20  5 21 24 23  1  6  9 13 15 24  7 21 19  2 24  2  2  6 15 16 15 23\n",
      " 15 12 23  0 11 17 16 14  0 21 16 10 18  5  2 19  9 16 11  8 17  3 18 23\n",
      "  8 18 23 12  3 11  8 15 23 11  1  4 24 13  9 18  0 20  3  6  8 13  3  3\n",
      "  1 20 22 15 18 15 24 23 18 11  2 17  1  1 16 19 21 17 24  3 20  6 20 20\n",
      "  7]\n",
      "0       6\n",
      "1       6\n",
      "2       6\n",
      "3       6\n",
      "4       6\n",
      "       ..\n",
      "957    23\n",
      "958    23\n",
      "959    23\n",
      "960    23\n",
      "961    23\n",
      "Name: Category, Length: 962, dtype: int32\n"
     ]
    }
   ],
   "source": [
    "clf = tree.DecisionTreeClassifier()\n",
    "clf = clf.fit(X_train, y_train)\n",
    "yp = clf.predict(X_test)\n",
    "acc = accuracy_score(y_test, yp)\n",
    "print(\"accuracy is: \",acc)\n",
    "print(yp)\n",
    "print(df['Category'])"
   ]
  },
  {
   "cell_type": "code",
   "execution_count": 28,
   "id": "cc7846be",
   "metadata": {},
   "outputs": [
    {
     "name": "stdout",
     "output_type": "stream",
     "text": [
      "Predicted output:  [20  4 14 24  8 16  4 19  7  7  6  9  4  7  8 24 15 12  9 14 17  0 22  5\n",
      " 14 10  5  1  2  3  1  7 14 12 11 13 20 15 10 23 12  4 22 10 13 22 16 13\n",
      "  7  3  3 22  8 19  7 11 15 21  8 24 10  8  2 19 23 13  3 12 11 22 24 16\n",
      "  3  3 15  6  6 24 10 15  7  9  4  5 19 13 17 23 24  6  2 15 18  1 13  8\n",
      " 23 23 11  1 16 15  0 23 21 24 12 23 20 11 22 23 10 13 15  6 14 21 15 17\n",
      " 14 11 16 15 19 13  7 20 15 11  6 10  5 22 10 23  8 15 10 22  8 15  0  9\n",
      " 22  8  6  8 20 12  8 18  4 16 15 13 10 23  4  1 22  9 10  8 15 20 20 15\n",
      " 18 13 18  2 22 11  6 15 19  1 23 20 24 14 18  5 14 17 12 23 23 16 15 23\n",
      " 18 20  5 21 24 23  1  6  9 13 15 24  7 21 19  2 24  2  2  6 15 16 15 23\n",
      " 15 12 23  0 11 17 16 14  0 21 16 10 18  5  2 19  9 16 11  8 17  3 18 23\n",
      "  8 18 23 12  3 11  8 15 23 11  1  4 24 13  9 18  0 20  3  6  8 13  3  3\n",
      "  1 20 22 15 18 15 24 23 18 11  2 17  1  1 16 19 21 17 24  3 20  6 20 20\n",
      "  7]\n"
     ]
    }
   ],
   "source": [
    "yp = clf.predict(X_test)\n",
    "print(\"Predicted output: \", yp)"
   ]
  },
  {
   "cell_type": "code",
   "execution_count": 29,
   "id": "d74c8a1e",
   "metadata": {},
   "outputs": [
    {
     "name": "stdout",
     "output_type": "stream",
     "text": [
      "Predicted labels:  ['Python Developer' 'Business Analyst' 'Health and fitness'\n",
      " 'Web Designing' 'DevOps Engineer' 'Mechanical Engineer'\n",
      " 'Business Analyst' 'PMO' 'Database' 'Database' 'Data Science'\n",
      " 'DotNet Developer' 'Business Analyst' 'Database' 'DevOps Engineer'\n",
      " 'Web Designing' 'Java Developer' 'HR' 'DotNet Developer'\n",
      " 'Health and fitness' 'Network Security Engineer' 'Advocate' 'Sales'\n",
      " 'Civil Engineer' 'Health and fitness' 'ETL Developer' 'Civil Engineer'\n",
      " 'Arts' 'Automation Testing' 'Blockchain' 'Arts' 'Database'\n",
      " 'Health and fitness' 'HR' 'Electrical Engineering' 'Hadoop'\n",
      " 'Python Developer' 'Java Developer' 'ETL Developer' 'Testing' 'HR'\n",
      " 'Business Analyst' 'Sales' 'ETL Developer' 'Hadoop' 'Sales'\n",
      " 'Mechanical Engineer' 'Hadoop' 'Database' 'Blockchain' 'Blockchain'\n",
      " 'Sales' 'DevOps Engineer' 'PMO' 'Database' 'Electrical Engineering'\n",
      " 'Java Developer' 'SAP Developer' 'DevOps Engineer' 'Web Designing'\n",
      " 'ETL Developer' 'DevOps Engineer' 'Automation Testing' 'PMO' 'Testing'\n",
      " 'Hadoop' 'Blockchain' 'HR' 'Electrical Engineering' 'Sales'\n",
      " 'Web Designing' 'Mechanical Engineer' 'Blockchain' 'Blockchain'\n",
      " 'Java Developer' 'Data Science' 'Data Science' 'Web Designing'\n",
      " 'ETL Developer' 'Java Developer' 'Database' 'DotNet Developer'\n",
      " 'Business Analyst' 'Civil Engineer' 'PMO' 'Hadoop'\n",
      " 'Network Security Engineer' 'Testing' 'Web Designing' 'Data Science'\n",
      " 'Automation Testing' 'Java Developer' 'Operations Manager' 'Arts'\n",
      " 'Hadoop' 'DevOps Engineer' 'Testing' 'Testing' 'Electrical Engineering'\n",
      " 'Arts' 'Mechanical Engineer' 'Java Developer' 'Advocate' 'Testing'\n",
      " 'SAP Developer' 'Web Designing' 'HR' 'Testing' 'Python Developer'\n",
      " 'Electrical Engineering' 'Sales' 'Testing' 'ETL Developer' 'Hadoop'\n",
      " 'Java Developer' 'Data Science' 'Health and fitness' 'SAP Developer'\n",
      " 'Java Developer' 'Network Security Engineer' 'Health and fitness'\n",
      " 'Electrical Engineering' 'Mechanical Engineer' 'Java Developer' 'PMO'\n",
      " 'Hadoop' 'Database' 'Python Developer' 'Java Developer'\n",
      " 'Electrical Engineering' 'Data Science' 'ETL Developer' 'Civil Engineer'\n",
      " 'Sales' 'ETL Developer' 'Testing' 'DevOps Engineer' 'Java Developer'\n",
      " 'ETL Developer' 'Sales' 'DevOps Engineer' 'Java Developer' 'Advocate'\n",
      " 'DotNet Developer' 'Sales' 'DevOps Engineer' 'Data Science'\n",
      " 'DevOps Engineer' 'Python Developer' 'HR' 'DevOps Engineer'\n",
      " 'Operations Manager' 'Business Analyst' 'Mechanical Engineer'\n",
      " 'Java Developer' 'Hadoop' 'ETL Developer' 'Testing' 'Business Analyst'\n",
      " 'Arts' 'Sales' 'DotNet Developer' 'ETL Developer' 'DevOps Engineer'\n",
      " 'Java Developer' 'Python Developer' 'Python Developer' 'Java Developer'\n",
      " 'Operations Manager' 'Hadoop' 'Operations Manager' 'Automation Testing'\n",
      " 'Sales' 'Electrical Engineering' 'Data Science' 'Java Developer' 'PMO'\n",
      " 'Arts' 'Testing' 'Python Developer' 'Web Designing' 'Health and fitness'\n",
      " 'Operations Manager' 'Civil Engineer' 'Health and fitness'\n",
      " 'Network Security Engineer' 'HR' 'Testing' 'Testing'\n",
      " 'Mechanical Engineer' 'Java Developer' 'Testing' 'Operations Manager'\n",
      " 'Python Developer' 'Civil Engineer' 'SAP Developer' 'Web Designing'\n",
      " 'Testing' 'Arts' 'Data Science' 'DotNet Developer' 'Hadoop'\n",
      " 'Java Developer' 'Web Designing' 'Database' 'SAP Developer' 'PMO'\n",
      " 'Automation Testing' 'Web Designing' 'Automation Testing'\n",
      " 'Automation Testing' 'Data Science' 'Java Developer'\n",
      " 'Mechanical Engineer' 'Java Developer' 'Testing' 'Java Developer' 'HR'\n",
      " 'Testing' 'Advocate' 'Electrical Engineering' 'Network Security Engineer'\n",
      " 'Mechanical Engineer' 'Health and fitness' 'Advocate' 'SAP Developer'\n",
      " 'Mechanical Engineer' 'ETL Developer' 'Operations Manager'\n",
      " 'Civil Engineer' 'Automation Testing' 'PMO' 'DotNet Developer'\n",
      " 'Mechanical Engineer' 'Electrical Engineering' 'DevOps Engineer'\n",
      " 'Network Security Engineer' 'Blockchain' 'Operations Manager' 'Testing'\n",
      " 'DevOps Engineer' 'Operations Manager' 'Testing' 'HR' 'Blockchain'\n",
      " 'Electrical Engineering' 'DevOps Engineer' 'Java Developer' 'Testing'\n",
      " 'Electrical Engineering' 'Arts' 'Business Analyst' 'Web Designing'\n",
      " 'Hadoop' 'DotNet Developer' 'Operations Manager' 'Advocate'\n",
      " 'Python Developer' 'Blockchain' 'Data Science' 'DevOps Engineer' 'Hadoop'\n",
      " 'Blockchain' 'Blockchain' 'Arts' 'Python Developer' 'Sales'\n",
      " 'Java Developer' 'Operations Manager' 'Java Developer' 'Web Designing'\n",
      " 'Testing' 'Operations Manager' 'Electrical Engineering'\n",
      " 'Automation Testing' 'Network Security Engineer' 'Arts' 'Arts'\n",
      " 'Mechanical Engineer' 'PMO' 'SAP Developer' 'Network Security Engineer'\n",
      " 'Web Designing' 'Blockchain' 'Python Developer' 'Data Science'\n",
      " 'Python Developer' 'Python Developer' 'Database']\n"
     ]
    }
   ],
   "source": [
    "# le = LabelEncoder()\n",
    "# le.fit(df['Category'])\n",
    "y_pred_decoded = le.inverse_transform(yp)\n",
    "\n",
    "print(\"Predicted labels: \", y_pred_decoded)"
   ]
  },
  {
   "cell_type": "code",
   "execution_count": 44,
   "id": "7a26eaa9",
   "metadata": {},
   "outputs": [],
   "source": [
    "pickle.dump(clf,open('clf.pkl','wb'))\n",
    "pickle.dump(le,open('le.pkl','wb'))\n",
    "pickle.dump(cv,open('cv.pkl','wb'))"
   ]
  },
  {
   "cell_type": "code",
   "execution_count": 45,
   "id": "70a89f98",
   "metadata": {},
   "outputs": [],
   "source": [
    "loaded_model = pickle.load(open('clf.pkl','rb'))\n",
    "loaded_le = pickle.load(open('le.pkl','rb'))\n",
    "loaded_cv = pickle.load(open('cv.pkl','rb'))"
   ]
  },
  {
   "cell_type": "code",
   "execution_count": 46,
   "id": "a988b7b4",
   "metadata": {},
   "outputs": [
    {
     "name": "stdout",
     "output_type": "stream",
     "text": [
      "  (0, 657)\t50\n",
      "  (0, 1200)\t50\n"
     ]
    }
   ],
   "source": [
    "str = 50*\" I am a Java Developer \"\n",
    "c = loaded_cv.transform([str])\n",
    "print(c)"
   ]
  },
  {
   "cell_type": "code",
   "execution_count": 47,
   "id": "8e33ff60",
   "metadata": {},
   "outputs": [],
   "source": [
    "var = loaded_model.predict(c)"
   ]
  },
  {
   "cell_type": "code",
   "execution_count": 48,
   "id": "d8d9bd7e",
   "metadata": {},
   "outputs": [
    {
     "data": {
      "text/plain": [
       "array(['Java Developer'], dtype=object)"
      ]
     },
     "execution_count": 48,
     "metadata": {},
     "output_type": "execute_result"
    }
   ],
   "source": [
    "loaded_le.inverse_transform(var)"
   ]
  },
  {
   "cell_type": "code",
   "execution_count": 49,
   "id": "9ab2b6c1",
   "metadata": {},
   "outputs": [
    {
     "name": "stdout",
     "output_type": "stream",
     "text": [
      "Java Developer\n"
     ]
    }
   ],
   "source": [
    "print(loaded_le.inverse_transform(var)[0])"
   ]
  },
  {
   "cell_type": "code",
   "execution_count": 50,
   "id": "02dc725a",
   "metadata": {},
   "outputs": [
    {
     "ename": "ValueError",
     "evalue": "y should be a 1d array, got an array of shape () instead.",
     "output_type": "error",
     "traceback": [
      "\u001b[1;31m---------------------------------------------------------------------------\u001b[0m",
      "\u001b[1;31mValueError\u001b[0m                                Traceback (most recent call last)",
      "Cell \u001b[1;32mIn [50], line 3\u001b[0m\n\u001b[0;32m      1\u001b[0m \u001b[38;5;28;01mfor\u001b[39;00m i \u001b[38;5;129;01min\u001b[39;00m \u001b[38;5;28mrange\u001b[39m(\u001b[38;5;28mlen\u001b[39m(df[\u001b[38;5;124m'\u001b[39m\u001b[38;5;124mCategory\u001b[39m\u001b[38;5;124m'\u001b[39m]\u001b[38;5;241m.\u001b[39munique())):\n\u001b[0;32m      2\u001b[0m     vr \u001b[38;5;241m=\u001b[39m df[\u001b[38;5;124m'\u001b[39m\u001b[38;5;124mCategory\u001b[39m\u001b[38;5;124m'\u001b[39m]\u001b[38;5;241m.\u001b[39munique()[i]\n\u001b[1;32m----> 3\u001b[0m     \u001b[38;5;28mprint\u001b[39m(\u001b[43mloaded_le\u001b[49m\u001b[38;5;241;43m.\u001b[39;49m\u001b[43minverse_transform\u001b[49m\u001b[43m(\u001b[49m\u001b[43mvr\u001b[49m\u001b[43m)\u001b[49m[\u001b[38;5;241m0\u001b[39m])\n",
      "File \u001b[1;32m~\\desktop\\sample_project\\env\\lib\\site-packages\\sklearn\\preprocessing\\_label.py:154\u001b[0m, in \u001b[0;36mLabelEncoder.inverse_transform\u001b[1;34m(self, y)\u001b[0m\n\u001b[0;32m    141\u001b[0m \u001b[38;5;124;03m\"\"\"Transform labels back to original encoding.\u001b[39;00m\n\u001b[0;32m    142\u001b[0m \n\u001b[0;32m    143\u001b[0m \u001b[38;5;124;03mParameters\u001b[39;00m\n\u001b[1;32m   (...)\u001b[0m\n\u001b[0;32m    151\u001b[0m \u001b[38;5;124;03m    Original encoding.\u001b[39;00m\n\u001b[0;32m    152\u001b[0m \u001b[38;5;124;03m\"\"\"\u001b[39;00m\n\u001b[0;32m    153\u001b[0m check_is_fitted(\u001b[38;5;28mself\u001b[39m)\n\u001b[1;32m--> 154\u001b[0m y \u001b[38;5;241m=\u001b[39m \u001b[43mcolumn_or_1d\u001b[49m\u001b[43m(\u001b[49m\u001b[43my\u001b[49m\u001b[43m,\u001b[49m\u001b[43m \u001b[49m\u001b[43mwarn\u001b[49m\u001b[38;5;241;43m=\u001b[39;49m\u001b[38;5;28;43;01mTrue\u001b[39;49;00m\u001b[43m)\u001b[49m\n\u001b[0;32m    155\u001b[0m \u001b[38;5;66;03m# inverse transform of empty array is empty array\u001b[39;00m\n\u001b[0;32m    156\u001b[0m \u001b[38;5;28;01mif\u001b[39;00m _num_samples(y) \u001b[38;5;241m==\u001b[39m \u001b[38;5;241m0\u001b[39m:\n",
      "File \u001b[1;32m~\\desktop\\sample_project\\env\\lib\\site-packages\\sklearn\\utils\\validation.py:1156\u001b[0m, in \u001b[0;36mcolumn_or_1d\u001b[1;34m(y, warn)\u001b[0m\n\u001b[0;32m   1147\u001b[0m         warnings\u001b[38;5;241m.\u001b[39mwarn(\n\u001b[0;32m   1148\u001b[0m             \u001b[38;5;124m\"\u001b[39m\u001b[38;5;124mA column-vector y was passed when a 1d array was\u001b[39m\u001b[38;5;124m\"\u001b[39m\n\u001b[0;32m   1149\u001b[0m             \u001b[38;5;124m\"\u001b[39m\u001b[38;5;124m expected. Please change the shape of y to \u001b[39m\u001b[38;5;124m\"\u001b[39m\n\u001b[1;32m   (...)\u001b[0m\n\u001b[0;32m   1152\u001b[0m             stacklevel\u001b[38;5;241m=\u001b[39m\u001b[38;5;241m2\u001b[39m,\n\u001b[0;32m   1153\u001b[0m         )\n\u001b[0;32m   1154\u001b[0m     \u001b[38;5;28;01mreturn\u001b[39;00m np\u001b[38;5;241m.\u001b[39mravel(y)\n\u001b[1;32m-> 1156\u001b[0m \u001b[38;5;28;01mraise\u001b[39;00m \u001b[38;5;167;01mValueError\u001b[39;00m(\n\u001b[0;32m   1157\u001b[0m     \u001b[38;5;124m\"\u001b[39m\u001b[38;5;124my should be a 1d array, got an array of shape \u001b[39m\u001b[38;5;132;01m{}\u001b[39;00m\u001b[38;5;124m instead.\u001b[39m\u001b[38;5;124m\"\u001b[39m\u001b[38;5;241m.\u001b[39mformat(shape)\n\u001b[0;32m   1158\u001b[0m )\n",
      "\u001b[1;31mValueError\u001b[0m: y should be a 1d array, got an array of shape () instead."
     ]
    }
   ],
   "source": [
    "for i in range(len(df['Category'].unique())):\n",
    "    vr = df['Category'].unique()[i]\n",
    "    print(loaded_le.inverse_transform(vr)[0])\n",
    "#     print(loaded_le.inverse_transform(var)[0])\n"
   ]
  },
  {
   "cell_type": "code",
   "execution_count": null,
   "id": "151078f5",
   "metadata": {},
   "outputs": [],
   "source": []
  }
 ],
 "metadata": {
  "kernelspec": {
   "display_name": "Python 3 (ipykernel)",
   "language": "python",
   "name": "python3"
  },
  "language_info": {
   "codemirror_mode": {
    "name": "ipython",
    "version": 3
   },
   "file_extension": ".py",
   "mimetype": "text/x-python",
   "name": "python",
   "nbconvert_exporter": "python",
   "pygments_lexer": "ipython3",
   "version": "3.10.4"
  }
 },
 "nbformat": 4,
 "nbformat_minor": 5
}
